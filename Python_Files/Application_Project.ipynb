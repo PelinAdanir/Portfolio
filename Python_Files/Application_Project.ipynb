{
 "cells": [
  {
   "cell_type": "code",
   "execution_count": 1,
   "metadata": {
    "colab": {
     "base_uri": "https://localhost:8080/"
    },
    "id": "USTpf0A8m_Yr",
    "outputId": "fa377295-0276-4400-90a3-638a4ea61435"
   },
   "outputs": [],
   "source": [
    "#!pip install plotly\n",
    "#!pip install yahoo_fin \n",
    "#!pip install pyomo"
   ]
  },
  {
   "cell_type": "code",
   "execution_count": 2,
   "metadata": {
    "id": "UmKJ3OAdnLjU"
   },
   "outputs": [],
   "source": [
    "import numpy as np\n",
    "import pandas as pd\n",
    "import math \n",
    "import sys\n",
    "\n",
    "from pyomo.environ import *\n",
    "from pyomo.opt import SolverFactory"
   ]
  },
  {
   "cell_type": "code",
   "execution_count": 18,
   "metadata": {
    "id": "uzfBBu97nR8K"
   },
   "outputs": [],
   "source": [
    "# List of stocks to use for data stream:\n",
    "  # I'm using the QQQ portfolio for this project, however, users can replace the \n",
    "  # file with their own list of companies and build their own portfolio that way.\n",
    "from yahoo_fin.stock_info import get_data\n",
    "\n",
    "df = pd.read_excel('QQQ_portfolio.xlsx',header=None)\n",
    "stocks = df[0].tolist()\n",
    "\n",
    "data = {}\n",
    "for ticker in stocks:\n",
    "    data[ticker] = get_data(ticker, start_date=\"01/01/2010\", end_date=\"01/01/2020\", index_as_date = True, interval=\"1mo\")\n",
    "#data"
   ]
  },
  {
   "cell_type": "code",
   "execution_count": 15,
   "metadata": {},
   "outputs": [
    {
     "data": {
      "text/html": [
       "<div>\n",
       "<style scoped>\n",
       "    .dataframe tbody tr th:only-of-type {\n",
       "        vertical-align: middle;\n",
       "    }\n",
       "\n",
       "    .dataframe tbody tr th {\n",
       "        vertical-align: top;\n",
       "    }\n",
       "\n",
       "    .dataframe thead th {\n",
       "        text-align: right;\n",
       "    }\n",
       "</style>\n",
       "<table border=\"1\" class=\"dataframe\">\n",
       "  <thead>\n",
       "    <tr style=\"text-align: right;\">\n",
       "      <th></th>\n",
       "      <th>open</th>\n",
       "      <th>high</th>\n",
       "      <th>low</th>\n",
       "      <th>close</th>\n",
       "      <th>adjclose</th>\n",
       "      <th>volume</th>\n",
       "      <th>ticker</th>\n",
       "    </tr>\n",
       "  </thead>\n",
       "  <tbody>\n",
       "    <tr>\n",
       "      <th>2010-01-01</th>\n",
       "      <td>7.622500</td>\n",
       "      <td>7.699643</td>\n",
       "      <td>6.794643</td>\n",
       "      <td>6.859286</td>\n",
       "      <td>5.880913</td>\n",
       "      <td>15168994400</td>\n",
       "      <td>AAPL</td>\n",
       "    </tr>\n",
       "    <tr>\n",
       "      <th>2010-02-01</th>\n",
       "      <td>6.870357</td>\n",
       "      <td>7.327500</td>\n",
       "      <td>6.816071</td>\n",
       "      <td>7.307857</td>\n",
       "      <td>6.265502</td>\n",
       "      <td>10776080000</td>\n",
       "      <td>AAPL</td>\n",
       "    </tr>\n",
       "    <tr>\n",
       "      <th>2010-03-01</th>\n",
       "      <td>7.348214</td>\n",
       "      <td>8.481429</td>\n",
       "      <td>7.337500</td>\n",
       "      <td>8.392857</td>\n",
       "      <td>7.195743</td>\n",
       "      <td>12154172800</td>\n",
       "      <td>AAPL</td>\n",
       "    </tr>\n",
       "    <tr>\n",
       "      <th>2010-04-01</th>\n",
       "      <td>8.478929</td>\n",
       "      <td>9.730714</td>\n",
       "      <td>8.312500</td>\n",
       "      <td>9.324643</td>\n",
       "      <td>7.994627</td>\n",
       "      <td>12367129600</td>\n",
       "      <td>AAPL</td>\n",
       "    </tr>\n",
       "    <tr>\n",
       "      <th>2010-05-01</th>\n",
       "      <td>9.422857</td>\n",
       "      <td>9.567143</td>\n",
       "      <td>7.116071</td>\n",
       "      <td>9.174286</td>\n",
       "      <td>7.865713</td>\n",
       "      <td>18082654800</td>\n",
       "      <td>AAPL</td>\n",
       "    </tr>\n",
       "  </tbody>\n",
       "</table>\n",
       "</div>"
      ],
      "text/plain": [
       "                open      high       low     close  adjclose       volume  \\\n",
       "2010-01-01  7.622500  7.699643  6.794643  6.859286  5.880913  15168994400   \n",
       "2010-02-01  6.870357  7.327500  6.816071  7.307857  6.265502  10776080000   \n",
       "2010-03-01  7.348214  8.481429  7.337500  8.392857  7.195743  12154172800   \n",
       "2010-04-01  8.478929  9.730714  8.312500  9.324643  7.994627  12367129600   \n",
       "2010-05-01  9.422857  9.567143  7.116071  9.174286  7.865713  18082654800   \n",
       "\n",
       "           ticker  \n",
       "2010-01-01   AAPL  \n",
       "2010-02-01   AAPL  \n",
       "2010-03-01   AAPL  \n",
       "2010-04-01   AAPL  \n",
       "2010-05-01   AAPL  "
      ]
     },
     "execution_count": 15,
     "metadata": {},
     "output_type": "execute_result"
    }
   ],
   "source": [
    "# This data is stored as a dictionary of dataframse. \n",
    "# Looking at first few rows of the first stock in the list:\n",
    "data['AAPL'].head()"
   ]
  },
  {
   "cell_type": "code",
   "execution_count": 19,
   "metadata": {},
   "outputs": [],
   "source": [
    "# Calculate monthly returns and add as a column\n",
    "for i in stocks:\n",
    "    for j in range(len(data[i])):\n",
    "        data[i]['returns'] = data[i]['adjclose'].pct_change()  # this function is cited from https://www.codingfinance.com/post/2018-04-03-calc-returns-py/\n",
    "\n",
    "# Drop the first month as it doesn't generate a return variable:\n",
    "for i in stocks:\n",
    "    data[i] = data[i].iloc[1: , :]"
   ]
  },
  {
   "cell_type": "code",
   "execution_count": 20,
   "metadata": {},
   "outputs": [
    {
     "data": {
      "text/html": [
       "<div>\n",
       "<style scoped>\n",
       "    .dataframe tbody tr th:only-of-type {\n",
       "        vertical-align: middle;\n",
       "    }\n",
       "\n",
       "    .dataframe tbody tr th {\n",
       "        vertical-align: top;\n",
       "    }\n",
       "\n",
       "    .dataframe thead th {\n",
       "        text-align: right;\n",
       "    }\n",
       "</style>\n",
       "<table border=\"1\" class=\"dataframe\">\n",
       "  <thead>\n",
       "    <tr style=\"text-align: right;\">\n",
       "      <th></th>\n",
       "      <th>open</th>\n",
       "      <th>high</th>\n",
       "      <th>low</th>\n",
       "      <th>close</th>\n",
       "      <th>adjclose</th>\n",
       "      <th>volume</th>\n",
       "      <th>ticker</th>\n",
       "      <th>returns</th>\n",
       "    </tr>\n",
       "  </thead>\n",
       "  <tbody>\n",
       "    <tr>\n",
       "      <th>2010-02-01</th>\n",
       "      <td>6.870357</td>\n",
       "      <td>7.327500</td>\n",
       "      <td>6.816071</td>\n",
       "      <td>7.307857</td>\n",
       "      <td>6.265501</td>\n",
       "      <td>10776080000</td>\n",
       "      <td>AAPL</td>\n",
       "      <td>0.065396</td>\n",
       "    </tr>\n",
       "    <tr>\n",
       "      <th>2010-03-01</th>\n",
       "      <td>7.348214</td>\n",
       "      <td>8.481429</td>\n",
       "      <td>7.337500</td>\n",
       "      <td>8.392857</td>\n",
       "      <td>7.195741</td>\n",
       "      <td>12154172800</td>\n",
       "      <td>AAPL</td>\n",
       "      <td>0.148470</td>\n",
       "    </tr>\n",
       "    <tr>\n",
       "      <th>2010-04-01</th>\n",
       "      <td>8.478929</td>\n",
       "      <td>9.730714</td>\n",
       "      <td>8.312500</td>\n",
       "      <td>9.324643</td>\n",
       "      <td>7.994621</td>\n",
       "      <td>12367129600</td>\n",
       "      <td>AAPL</td>\n",
       "      <td>0.111021</td>\n",
       "    </tr>\n",
       "    <tr>\n",
       "      <th>2010-05-01</th>\n",
       "      <td>9.422857</td>\n",
       "      <td>9.567143</td>\n",
       "      <td>7.116071</td>\n",
       "      <td>9.174286</td>\n",
       "      <td>7.865714</td>\n",
       "      <td>18082654800</td>\n",
       "      <td>AAPL</td>\n",
       "      <td>-0.016124</td>\n",
       "    </tr>\n",
       "    <tr>\n",
       "      <th>2010-06-01</th>\n",
       "      <td>9.274643</td>\n",
       "      <td>9.964643</td>\n",
       "      <td>8.650000</td>\n",
       "      <td>8.983214</td>\n",
       "      <td>7.701895</td>\n",
       "      <td>16651252800</td>\n",
       "      <td>AAPL</td>\n",
       "      <td>-0.020827</td>\n",
       "    </tr>\n",
       "  </tbody>\n",
       "</table>\n",
       "</div>"
      ],
      "text/plain": [
       "                open      high       low     close  adjclose       volume  \\\n",
       "2010-02-01  6.870357  7.327500  6.816071  7.307857  6.265501  10776080000   \n",
       "2010-03-01  7.348214  8.481429  7.337500  8.392857  7.195741  12154172800   \n",
       "2010-04-01  8.478929  9.730714  8.312500  9.324643  7.994621  12367129600   \n",
       "2010-05-01  9.422857  9.567143  7.116071  9.174286  7.865714  18082654800   \n",
       "2010-06-01  9.274643  9.964643  8.650000  8.983214  7.701895  16651252800   \n",
       "\n",
       "           ticker   returns  \n",
       "2010-02-01   AAPL  0.065396  \n",
       "2010-03-01   AAPL  0.148470  \n",
       "2010-04-01   AAPL  0.111021  \n",
       "2010-05-01   AAPL -0.016124  \n",
       "2010-06-01   AAPL -0.020827  "
      ]
     },
     "execution_count": 20,
     "metadata": {},
     "output_type": "execute_result"
    }
   ],
   "source": [
    "data['AAPL'].head()"
   ]
  },
  {
   "cell_type": "code",
   "execution_count": 21,
   "metadata": {},
   "outputs": [],
   "source": [
    "returns_list = [] \n",
    "for i in stocks:\n",
    "    returns_list.append(data[i]['returns'].tolist())\n",
    "        "
   ]
  },
  {
   "cell_type": "code",
   "execution_count": 22,
   "metadata": {
    "id": "wJXO0sLMnXOQ"
   },
   "outputs": [],
   "source": [
    "# calculation of volatility for each stock:\n",
    "  # first we need an average return for each stock: \n",
    "import statistics\n",
    "avg_price = []\n",
    "for i in stocks:\n",
    "    avg_price.append(sum(data[i]['adjclose'])/len(data[i]))\n"
   ]
  },
  {
   "cell_type": "code",
   "execution_count": 23,
   "metadata": {
    "colab": {
     "base_uri": "https://localhost:8080/",
     "height": 206
    },
    "id": "7hXHLg1OIqFZ",
    "outputId": "21776a44-7391-4175-97f7-00a6b5112c64"
   },
   "outputs": [
    {
     "data": {
      "text/html": [
       "<div>\n",
       "<style scoped>\n",
       "    .dataframe tbody tr th:only-of-type {\n",
       "        vertical-align: middle;\n",
       "    }\n",
       "\n",
       "    .dataframe tbody tr th {\n",
       "        vertical-align: top;\n",
       "    }\n",
       "\n",
       "    .dataframe thead th {\n",
       "        text-align: right;\n",
       "    }\n",
       "</style>\n",
       "<table border=\"1\" class=\"dataframe\">\n",
       "  <thead>\n",
       "    <tr style=\"text-align: right;\">\n",
       "      <th></th>\n",
       "      <th>open</th>\n",
       "      <th>high</th>\n",
       "      <th>low</th>\n",
       "      <th>close</th>\n",
       "      <th>adjclose</th>\n",
       "      <th>volume</th>\n",
       "      <th>ticker</th>\n",
       "      <th>returns</th>\n",
       "      <th>average</th>\n",
       "    </tr>\n",
       "  </thead>\n",
       "  <tbody>\n",
       "    <tr>\n",
       "      <th>2010-02-01</th>\n",
       "      <td>6.870357</td>\n",
       "      <td>7.327500</td>\n",
       "      <td>6.816071</td>\n",
       "      <td>7.307857</td>\n",
       "      <td>6.265501</td>\n",
       "      <td>10776080000</td>\n",
       "      <td>AAPL</td>\n",
       "      <td>0.065396</td>\n",
       "      <td>25.963639</td>\n",
       "    </tr>\n",
       "    <tr>\n",
       "      <th>2010-03-01</th>\n",
       "      <td>7.348214</td>\n",
       "      <td>8.481429</td>\n",
       "      <td>7.337500</td>\n",
       "      <td>8.392857</td>\n",
       "      <td>7.195741</td>\n",
       "      <td>12154172800</td>\n",
       "      <td>AAPL</td>\n",
       "      <td>0.148470</td>\n",
       "      <td>25.963639</td>\n",
       "    </tr>\n",
       "    <tr>\n",
       "      <th>2010-04-01</th>\n",
       "      <td>8.478929</td>\n",
       "      <td>9.730714</td>\n",
       "      <td>8.312500</td>\n",
       "      <td>9.324643</td>\n",
       "      <td>7.994621</td>\n",
       "      <td>12367129600</td>\n",
       "      <td>AAPL</td>\n",
       "      <td>0.111021</td>\n",
       "      <td>25.963639</td>\n",
       "    </tr>\n",
       "    <tr>\n",
       "      <th>2010-05-01</th>\n",
       "      <td>9.422857</td>\n",
       "      <td>9.567143</td>\n",
       "      <td>7.116071</td>\n",
       "      <td>9.174286</td>\n",
       "      <td>7.865714</td>\n",
       "      <td>18082654800</td>\n",
       "      <td>AAPL</td>\n",
       "      <td>-0.016124</td>\n",
       "      <td>25.963639</td>\n",
       "    </tr>\n",
       "    <tr>\n",
       "      <th>2010-06-01</th>\n",
       "      <td>9.274643</td>\n",
       "      <td>9.964643</td>\n",
       "      <td>8.650000</td>\n",
       "      <td>8.983214</td>\n",
       "      <td>7.701895</td>\n",
       "      <td>16651252800</td>\n",
       "      <td>AAPL</td>\n",
       "      <td>-0.020827</td>\n",
       "      <td>25.963639</td>\n",
       "    </tr>\n",
       "  </tbody>\n",
       "</table>\n",
       "</div>"
      ],
      "text/plain": [
       "                open      high       low     close  adjclose       volume  \\\n",
       "2010-02-01  6.870357  7.327500  6.816071  7.307857  6.265501  10776080000   \n",
       "2010-03-01  7.348214  8.481429  7.337500  8.392857  7.195741  12154172800   \n",
       "2010-04-01  8.478929  9.730714  8.312500  9.324643  7.994621  12367129600   \n",
       "2010-05-01  9.422857  9.567143  7.116071  9.174286  7.865714  18082654800   \n",
       "2010-06-01  9.274643  9.964643  8.650000  8.983214  7.701895  16651252800   \n",
       "\n",
       "           ticker   returns    average  \n",
       "2010-02-01   AAPL  0.065396  25.963639  \n",
       "2010-03-01   AAPL  0.148470  25.963639  \n",
       "2010-04-01   AAPL  0.111021  25.963639  \n",
       "2010-05-01   AAPL -0.016124  25.963639  \n",
       "2010-06-01   AAPL -0.020827  25.963639  "
      ]
     },
     "execution_count": 23,
     "metadata": {},
     "output_type": "execute_result"
    }
   ],
   "source": [
    "#for i in stocks:\n",
    " #     data[i]['average'] = 0\n",
    "\n",
    "for i in range(len(stocks)): \n",
    "      data[stocks[i]]['average'] = avg_price[i]\n",
    "data['AAPL'].head()\n"
   ]
  },
  {
   "cell_type": "code",
   "execution_count": 24,
   "metadata": {
    "id": "sgRC0yq5IMuo"
   },
   "outputs": [],
   "source": [
    "for i in stocks:\n",
    "    data[i]['devsqr'] = 0\n",
    "\n",
    "for i in stocks:\n",
    "    for j in range(len(data[i])):\n",
    "        data[i]['devsqr'] = data[i]['average'] - data[i]['adjclose']\n"
   ]
  },
  {
   "cell_type": "code",
   "execution_count": 25,
   "metadata": {
    "colab": {
     "base_uri": "https://localhost:8080/"
    },
    "id": "NmnI1Qi-MlyY",
    "outputId": "6aa0151d-3107-4cbc-b4d3-a4f9cb282bef"
   },
   "outputs": [
    {
     "name": "stderr",
     "output_type": "stream",
     "text": [
      "<ipython-input-25-ae21021ab044>:6: SettingWithCopyWarning: \n",
      "A value is trying to be set on a copy of a slice from a DataFrame\n",
      "\n",
      "See the caveats in the documentation: https://pandas.pydata.org/pandas-docs/stable/user_guide/indexing.html#returning-a-view-versus-a-copy\n",
      "  data[i]['squared'][j] = data[i]['devsqr'][j]**2\n"
     ]
    }
   ],
   "source": [
    "for i in stocks:\n",
    "    data[i]['squared'] = 0\n",
    "\n",
    "for i in stocks:\n",
    "    for j in range(len(data[i])):\n",
    "        data[i]['squared'][j] = data[i]['devsqr'][j]**2\n",
    "        \n"
   ]
  },
  {
   "cell_type": "code",
   "execution_count": 26,
   "metadata": {},
   "outputs": [
    {
     "data": {
      "text/html": [
       "<div>\n",
       "<style scoped>\n",
       "    .dataframe tbody tr th:only-of-type {\n",
       "        vertical-align: middle;\n",
       "    }\n",
       "\n",
       "    .dataframe tbody tr th {\n",
       "        vertical-align: top;\n",
       "    }\n",
       "\n",
       "    .dataframe thead th {\n",
       "        text-align: right;\n",
       "    }\n",
       "</style>\n",
       "<table border=\"1\" class=\"dataframe\">\n",
       "  <thead>\n",
       "    <tr style=\"text-align: right;\">\n",
       "      <th></th>\n",
       "      <th>open</th>\n",
       "      <th>high</th>\n",
       "      <th>low</th>\n",
       "      <th>close</th>\n",
       "      <th>adjclose</th>\n",
       "      <th>volume</th>\n",
       "      <th>ticker</th>\n",
       "      <th>returns</th>\n",
       "      <th>average</th>\n",
       "      <th>devsqr</th>\n",
       "      <th>squared</th>\n",
       "    </tr>\n",
       "  </thead>\n",
       "  <tbody>\n",
       "    <tr>\n",
       "      <th>2010-02-01</th>\n",
       "      <td>6.870357</td>\n",
       "      <td>7.327500</td>\n",
       "      <td>6.816071</td>\n",
       "      <td>7.307857</td>\n",
       "      <td>6.265501</td>\n",
       "      <td>10776080000</td>\n",
       "      <td>AAPL</td>\n",
       "      <td>0.065396</td>\n",
       "      <td>25.963639</td>\n",
       "      <td>19.698137</td>\n",
       "      <td>388</td>\n",
       "    </tr>\n",
       "    <tr>\n",
       "      <th>2010-03-01</th>\n",
       "      <td>7.348214</td>\n",
       "      <td>8.481429</td>\n",
       "      <td>7.337500</td>\n",
       "      <td>8.392857</td>\n",
       "      <td>7.195741</td>\n",
       "      <td>12154172800</td>\n",
       "      <td>AAPL</td>\n",
       "      <td>0.148470</td>\n",
       "      <td>25.963639</td>\n",
       "      <td>18.767897</td>\n",
       "      <td>352</td>\n",
       "    </tr>\n",
       "    <tr>\n",
       "      <th>2010-04-01</th>\n",
       "      <td>8.478929</td>\n",
       "      <td>9.730714</td>\n",
       "      <td>8.312500</td>\n",
       "      <td>9.324643</td>\n",
       "      <td>7.994621</td>\n",
       "      <td>12367129600</td>\n",
       "      <td>AAPL</td>\n",
       "      <td>0.111021</td>\n",
       "      <td>25.963639</td>\n",
       "      <td>17.969017</td>\n",
       "      <td>322</td>\n",
       "    </tr>\n",
       "    <tr>\n",
       "      <th>2010-05-01</th>\n",
       "      <td>9.422857</td>\n",
       "      <td>9.567143</td>\n",
       "      <td>7.116071</td>\n",
       "      <td>9.174286</td>\n",
       "      <td>7.865714</td>\n",
       "      <td>18082654800</td>\n",
       "      <td>AAPL</td>\n",
       "      <td>-0.016124</td>\n",
       "      <td>25.963639</td>\n",
       "      <td>18.097925</td>\n",
       "      <td>327</td>\n",
       "    </tr>\n",
       "    <tr>\n",
       "      <th>2010-06-01</th>\n",
       "      <td>9.274643</td>\n",
       "      <td>9.964643</td>\n",
       "      <td>8.650000</td>\n",
       "      <td>8.983214</td>\n",
       "      <td>7.701895</td>\n",
       "      <td>16651252800</td>\n",
       "      <td>AAPL</td>\n",
       "      <td>-0.020827</td>\n",
       "      <td>25.963639</td>\n",
       "      <td>18.261744</td>\n",
       "      <td>333</td>\n",
       "    </tr>\n",
       "  </tbody>\n",
       "</table>\n",
       "</div>"
      ],
      "text/plain": [
       "                open      high       low     close  adjclose       volume  \\\n",
       "2010-02-01  6.870357  7.327500  6.816071  7.307857  6.265501  10776080000   \n",
       "2010-03-01  7.348214  8.481429  7.337500  8.392857  7.195741  12154172800   \n",
       "2010-04-01  8.478929  9.730714  8.312500  9.324643  7.994621  12367129600   \n",
       "2010-05-01  9.422857  9.567143  7.116071  9.174286  7.865714  18082654800   \n",
       "2010-06-01  9.274643  9.964643  8.650000  8.983214  7.701895  16651252800   \n",
       "\n",
       "           ticker   returns    average     devsqr  squared  \n",
       "2010-02-01   AAPL  0.065396  25.963639  19.698137      388  \n",
       "2010-03-01   AAPL  0.148470  25.963639  18.767897      352  \n",
       "2010-04-01   AAPL  0.111021  25.963639  17.969017      322  \n",
       "2010-05-01   AAPL -0.016124  25.963639  18.097925      327  \n",
       "2010-06-01   AAPL -0.020827  25.963639  18.261744      333  "
      ]
     },
     "execution_count": 26,
     "metadata": {},
     "output_type": "execute_result"
    }
   ],
   "source": [
    "data['AAPL'].head()"
   ]
  },
  {
   "cell_type": "code",
   "execution_count": 27,
   "metadata": {
    "colab": {
     "base_uri": "https://localhost:8080/",
     "height": 206
    },
    "id": "Bd4nFMv1UVqw",
    "outputId": "bf716153-7bf4-4c88-fc3e-6070c1cc926f"
   },
   "outputs": [],
   "source": [
    "volatility = [] #indexed by i\n",
    "\n",
    "for i in stocks:\n",
    "    volatility.append( math.sqrt(data[i]['squared'].sum()/len(data[i])))\n"
   ]
  },
  {
   "cell_type": "code",
   "execution_count": 28,
   "metadata": {
    "colab": {
     "base_uri": "https://localhost:8080/",
     "height": 415
    },
    "id": "fK8s61RAa6Nt",
    "outputId": "5eef1698-5794-4497-dabb-6e8080d4e74a"
   },
   "outputs": [],
   "source": [
    "# Initial portfolio that minimizes volatility. \n",
    "    ## The portfolio returns are converted to annual gains, without including potential reinvestment of dividends\n",
    "    \n",
    "num_stocks = len(stocks) # indexed by i\n",
    "num_obs = len(returns_list) # indexed by j, length of data stream\n",
    "\n",
    "# Constructing the model\n",
    "model = ConcreteModel()\n",
    "model.x = Var(range(num_stocks), domain = NonNegativeReals) # this is the DV for % allocation to each stock.\n",
    "\n",
    "# Objective: Minimize volatility  \n",
    "model.Objective = Objective(expr = sum(model.x[i]*volatility[i] for i in range(num_stocks)), sense = minimize)\n",
    "\n",
    "\n",
    "# Consraints\n",
    "# Constraint 1 - portfolio allocations will sum up to 100% (or 1)\n",
    "model.PortfolioConstraints = Constraint(expr = sum(model.x[i] for i in range(num_stocks)) == 1)\n",
    "\n",
    "#model.pprint()\n"
   ]
  },
  {
   "cell_type": "code",
   "execution_count": 29,
   "metadata": {},
   "outputs": [
    {
     "data": {
      "text/plain": [
       "({'Problem': [{'Name': 'unknown', 'Lower bound': 1.53939855111003, 'Upper bound': 1.53939855111003, 'Number of objectives': 1, 'Number of constraints': 2, 'Number of variables': 103, 'Number of nonzeros': 103, 'Sense': 'minimize'}], 'Solver': [{'Status': 'ok', 'Termination condition': 'optimal', 'Statistics': {'Branch and bound': {'Number of bounded subproblems': 0, 'Number of created subproblems': 0}}, 'Error rc': 0, 'Time': 0.04989504814147949}], 'Solution': [OrderedDict([('number of solutions', 0), ('number of solutions displayed', 0)])]},)"
      ]
     },
     "execution_count": 29,
     "metadata": {},
     "output_type": "execute_result"
    }
   ],
   "source": [
    "# Solve\n",
    "opt = SolverFactory('glpk')\n",
    "opt.solve(model), #tee=True"
   ]
  },
  {
   "cell_type": "code",
   "execution_count": 30,
   "metadata": {},
   "outputs": [
    {
     "name": "stdout",
     "output_type": "stream",
     "text": [
      "Minimum Volatility is  1.5393985511100314\n",
      "stock SIRI is allocated: 100.0 %\n",
      "Portfolio return is: 31.03789251517206 %\n"
     ]
    }
   ],
   "source": [
    "# Solution list of tickers with portfolio allocations\n",
    "print(\"Minimum Volatility is \", model.Objective()) # this is the minimum volatility from the given list of stocks\n",
    "for i in range(num_stocks):\n",
    "    if model.x[i]() != 0:\n",
    "        print('stock',stocks[i], 'is allocated:', model.x[i]()*100,'%')\n",
    "        print('Portfolio return is:', (sum(data[stocks[i]]['returns'])/num_obs)*100*12,'%')"
   ]
  },
  {
   "cell_type": "code",
   "execution_count": 31,
   "metadata": {},
   "outputs": [],
   "source": [
    "# We would ideally like more returns, so we can add a minimum return constraint that any user can adjust as they wish\n",
    "# First we need to delete the model (or make a brand new one)\n",
    "model.del_component(model)\n",
    "\n",
    "\n",
    "num_stocks = len(stocks) # indexed by i\n",
    "num_obs = len(returns_list) # indexed by j, length of data stream\n",
    "\n",
    "# Constructing the model\n",
    "model = ConcreteModel()\n",
    "model.x = Var(range(num_stocks), domain = NonNegativeReals) # this is the DV for % allocation to each stock.\n",
    "\n",
    "# Objective: Minimize volatility  \n",
    "model.Objective = Objective(expr = sum(model.x[i]*volatility[i] for i in range(num_stocks)), sense = minimize)\n",
    "\n",
    "\n",
    "# Consraints\n",
    "# Constraint 1 - portfolio allocations will sum up to 100% (or 1)\n",
    "model.PortfolioConstraints = Constraint(expr = sum(model.x[i] for i in range(num_stocks)) == 1)\n",
    "# Consrtaint 2 - portfolio's minimum return should be higher than QQQ\n",
    "model.MinReturnConstraint = Constraint(expr = sum(sum(data[stocks[i]]['returns'])*model.x[i] for i in range(num_stocks))/num_obs >= 0.29/12)\n",
    "    \n",
    "#model.pprint()\n"
   ]
  },
  {
   "cell_type": "code",
   "execution_count": 32,
   "metadata": {},
   "outputs": [
    {
     "data": {
      "text/plain": [
       "{'Problem': [{'Name': 'unknown', 'Lower bound': 1.53939855111003, 'Upper bound': 1.53939855111003, 'Number of objectives': 1, 'Number of constraints': 3, 'Number of variables': 103, 'Number of nonzeros': 205, 'Sense': 'minimize'}], 'Solver': [{'Status': 'ok', 'Termination condition': 'optimal', 'Statistics': {'Branch and bound': {'Number of bounded subproblems': 0, 'Number of created subproblems': 0}}, 'Error rc': 0, 'Time': 0.07327628135681152}], 'Solution': [OrderedDict([('number of solutions', 0), ('number of solutions displayed', 0)])]}"
      ]
     },
     "execution_count": 32,
     "metadata": {},
     "output_type": "execute_result"
    }
   ],
   "source": [
    "# Solve\n",
    "opt = SolverFactory('glpk')\n",
    "opt.solve(model)#, tee=True)"
   ]
  },
  {
   "cell_type": "code",
   "execution_count": 33,
   "metadata": {},
   "outputs": [
    {
     "name": "stdout",
     "output_type": "stream",
     "text": [
      "Minimum Volatility is  1.5393985511100314\n",
      "List of Stocks:\n",
      "stock SIRI is allocated: 100.0 %\n",
      "Portfolio return is: 31.658650365475502 %\n"
     ]
    }
   ],
   "source": [
    "print(\"Minimum Volatility is \", model.Objective()) # this is the minimum volatility from the given list of stocks\n",
    "print(\"List of Stocks:\")\n",
    "for i in range(num_stocks):\n",
    "    if model.x[i]() != 0:\n",
    "        print('stock',stocks[i], 'is allocated:', model.x[i]()*100,'%')\n",
    "        \n",
    "list1 = []\n",
    "for i in range(num_stocks):\n",
    "    if model.x[i]() != 0:\n",
    "        list1.append(sum(data[stocks[i]]['returns']*model.x[i]()))\n",
    "\n",
    "      \n",
    "print('Portfolio return is:', sum(list1)*12,'%')\n"
   ]
  },
  {
   "cell_type": "code",
   "execution_count": 34,
   "metadata": {},
   "outputs": [],
   "source": [
    "# Next, I am adding another constraint for the allocation of the stock to make the portfolio more diversified\n",
    "    # First we need to delete the model (or make a brand new one)\n",
    "model.del_component(model)\n",
    "\n",
    "\n",
    "num_stocks = len(stocks) # indexed by i\n",
    "num_obs = len(returns_list) # indexed by j, length of data stream\n",
    "\n",
    "# Constructing the model\n",
    "model = ConcreteModel()\n",
    "model.x = Var(range(num_stocks), domain = NonNegativeReals) # this is the DV for % allocation to each stock.\n",
    "\n",
    "# Objective: Minimize volatility  \n",
    "model.Objective = Objective(expr = sum(model.x[i]*volatility[i] for i in range(num_stocks)), sense = minimize)\n",
    "\n",
    "\n",
    "# Consraints\n",
    "# Constraint 1 - portfolio allocations will sum up to 100% (or 1)\n",
    "model.PortfolioConstraints = Constraint(expr = sum(model.x[i] for i in range(num_stocks)) == 1)\n",
    "# Consrtaint 2 - portfolio's minimum return should be higher than QQQ\n",
    "model.MinReturnConstraint = Constraint(expr = sum(sum(data[stocks[i]]['returns'])*model.x[i] for i in range(num_stocks)) >= 0.29/12*num_obs)\n",
    "# Constraint 3 - diversified portfolio\n",
    "model.DiversifiedConstraint = ConstraintList()\n",
    "for i in range(num_stocks):\n",
    "    model.DiversifiedConstraint.add(expr = model.x[i] <= 0.5)\n",
    "#model.pprint()"
   ]
  },
  {
   "cell_type": "code",
   "execution_count": 35,
   "metadata": {},
   "outputs": [
    {
     "data": {
      "text/plain": [
       "{'Problem': [{'Name': 'unknown', 'Lower bound': 2.68738414601473, 'Upper bound': 2.68738414601473, 'Number of objectives': 1, 'Number of constraints': 105, 'Number of variables': 103, 'Number of nonzeros': 307, 'Sense': 'minimize'}], 'Solver': [{'Status': 'ok', 'Termination condition': 'optimal', 'Statistics': {'Branch and bound': {'Number of bounded subproblems': 0, 'Number of created subproblems': 0}}, 'Error rc': 0, 'Time': 0.05970454216003418}], 'Solution': [OrderedDict([('number of solutions', 0), ('number of solutions displayed', 0)])]}"
      ]
     },
     "execution_count": 35,
     "metadata": {},
     "output_type": "execute_result"
    }
   ],
   "source": [
    "# Solve\n",
    "opt = SolverFactory('glpk')\n",
    "opt.solve(model)#, tee=True)"
   ]
  },
  {
   "cell_type": "code",
   "execution_count": 36,
   "metadata": {},
   "outputs": [
    {
     "name": "stdout",
     "output_type": "stream",
     "text": [
      "Minimum Volatility is  2.687384146014733\n",
      "List of Stocks:\n",
      "stock FOXA is allocated: 31.5536032229101 %\n",
      "stock KDP is allocated: 18.446396777089898 %\n",
      "stock SIRI is allocated: 50.0 %\n",
      "Portfolio return is: 29.58 %\n"
     ]
    }
   ],
   "source": [
    "print(\"Minimum Volatility is \", model.Objective()) # this is the minimum volatility from the given list of stocks\n",
    "print(\"List of Stocks:\")\n",
    "for i in range(num_stocks):\n",
    "    if model.x[i]() != 0:\n",
    "        print('stock',stocks[i], 'is allocated:', model.x[i]()*100,'%')\n",
    "        \n",
    "list1 = []\n",
    "for i in range(num_stocks):\n",
    "    if model.x[i]() != 0:\n",
    "        list1.append(sum(data[stocks[i]]['returns']*model.x[i]()))\n",
    "\n",
    "      \n",
    "print('Portfolio return is:', sum(list1)*12,'%')\n"
   ]
  },
  {
   "cell_type": "code",
   "execution_count": 37,
   "metadata": {
    "id": "-f6Q3R8tN08W"
   },
   "outputs": [],
   "source": [
    "## From these results, we can see the tradeoff between a high return and a more diversified portfolio. \n",
    "## If we want to keep risk at minimum, we have to forego some of the returns."
   ]
  },
  {
   "cell_type": "code",
   "execution_count": null,
   "metadata": {},
   "outputs": [],
   "source": []
  }
 ],
 "metadata": {
  "colab": {
   "collapsed_sections": [],
   "name": "730-Applied_Project.ipynb",
   "provenance": []
  },
  "kernelspec": {
   "display_name": "Python 3 (ipykernel)",
   "language": "python",
   "name": "python3"
  },
  "language_info": {
   "codemirror_mode": {
    "name": "ipython",
    "version": 3
   },
   "file_extension": ".py",
   "mimetype": "text/x-python",
   "name": "python",
   "nbconvert_exporter": "python",
   "pygments_lexer": "ipython3",
   "version": "3.8.8"
  }
 },
 "nbformat": 4,
 "nbformat_minor": 1
}
